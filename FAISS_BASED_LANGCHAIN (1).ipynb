{
  "cells": [
    {
      "cell_type": "code",
      "execution_count": null,
      "metadata": {
        "id": "dxPB9QZ8iuQP"
      },
      "outputs": [],
      "source": [
        "from langchain_openai import OpenAI\n",
        "from langchain_community.document_loaders import TextLoader\n",
        "from langchain.text_splitter import RecursiveCharacterTextSplitter\n",
        "from langchain_openai import OpenAIEmbeddings\n",
        "from langchain_community.vectorstores import FAISS\n",
        "from langchain_core.vectorstores import VectorStoreRetriever\n",
        "from langchain.chains import RetrievalQA\n",
        "\n"
      ]
    },
    {
      "cell_type": "code",
      "execution_count": null,
      "metadata": {
        "colab": {
          "background_save": true
        },
        "id": "qOSZhWY3lrNs"
      },
      "outputs": [],
      "source": [
        "import os\n",
        "os.environ[\"OPENAI_API_KEY\"] = \"\"\n"
      ]
    },
    {
      "cell_type": "code",
      "execution_count": null,
      "metadata": {
        "id": "VoCfJxLPltsF"
      },
      "outputs": [],
      "source": [
        "loader= TextLoader(\"/content/Metallica.txt\")"
      ]
    },
    {
      "cell_type": "code",
      "execution_count": null,
      "metadata": {
        "id": "d5EqTa8LmBu9"
      },
      "outputs": [],
      "source": [
        "documents= loader.load()"
      ]
    },
    {
      "cell_type": "code",
      "execution_count": null,
      "metadata": {
        "colab": {
          "base_uri": "https://localhost:8080/"
        },
        "id": "A9RE4QYPmJkD",
        "outputId": "3136f924-1012-4999-fc4a-7de98c995f01"
      },
      "outputs": [
        {
          "data": {
            "text/plain": [
              "[Document(metadata={'source': '/content/Metallica.txt'}, page_content='Metallica\\xa0is an American\\xa0heavy metal\\xa0band. It was formed in\\xa0Los Angeles\\xa0in 1981 by vocalist and guitarist\\xa0James Hetfield\\xa0and drummer\\xa0Lars Ulrich, and has been based in\\xa0San Francisco\\xa0for most of its career.[1][2]\\xa0The band\\'s fast tempos, instrumentals and aggressive musicianship made them one of the founding \"big four\" bands of\\xa0thrash metal, alongside\\xa0Megadeth,\\xa0Anthrax\\xa0and\\xa0Slayer. Metallica\\'s current lineup comprises founding members and primary songwriters Hetfield and Ulrich, longtime lead guitarist\\xa0Kirk Hammett\\xa0and bassist\\xa0Robert Trujillo. Guitarist\\xa0Dave Mustaine, who formed Megadeth after being fired from Metallica, and bassists\\xa0Ron McGovney,\\xa0Cliff Burton\\xa0and\\xa0Jason Newsted\\xa0are former members of the band. The band is one of the\\xa0most commercially successful bands of all time, having sold more than 163\\xa0million albums worldwide as of 2023.[3]\\n\\nMetallica first found commercial success with the release of its third album,\\xa0Master of Puppets\\xa0(1986), which is cited as one of the heaviest metal albums and the band\\'s best work. The band\\'s next album,\\xa0...And Justice for All\\xa0(1988), gave Metallica its first\\xa0Grammy Award\\xa0nomination. Its fifth album,\\xa0Metallica\\xa0(1991), was a turning point for the band that saw them transition from their thrash roots; it appealed to a more mainstream audience, achieving substantial commercial success and selling more than 16\\xa0million copies in the United States to date, making it the best-selling album of the\\xa0SoundScan\\xa0era. After experimenting with different genres and directions in subsequent releases, Metallica returned to its thrash metal roots with its ninth album,\\xa0Death Magnetic\\xa0(2008), which drew similar praise to that of the band\\'s earlier albums. The band\\'s eleventh and most recent album,\\xa072 Seasons, was released in 2023.\\n\\nIn 2000,\\xa0Metallica led the case\\xa0against the\\xa0peer-to-peer file sharing\\xa0service\\xa0Napster, in which the band and several other artists filed lawsuits against the service for sharing their copyright-protected material without consent, eventually reaching a settlement. Metallica was the subject of the acclaimed 2004 documentary film\\xa0Metallica: Some Kind of Monster, which documented the troubled production of the band\\'s eighth album,\\xa0St. Anger\\xa0(2003), and the internal struggles within the band at the time. In 2009, Metallica was inducted into the\\xa0Rock and Roll Hall of Fame. The band co-wrote the screenplay for and starred alongside\\xa0Dane DeHaan\\xa0in the 2013 concert film\\xa0Metallica: Through the Never, in which the band performed live against a fictional\\xa0thriller\\xa0storyline.\\n\\nMetallica has released eleven studio albums, four live albums (including two performances with the\\xa0San Francisco Symphony), twelve video albums, one cover album, two extended plays, 37 singles and 39 music videos. The band has won ten Grammy Awards from 26 nominations and had six consecutive studio albums – from\\xa0Metallica\\xa0through\\xa0Hardwired... to Self-Destruct\\xa0(2016) – debut at number one on the\\xa0Billboard\\xa0200. Metallica has been listed as one of the greatest artists of all time by magazines such as\\xa0Rolling Stone, which ranked the band in 61st place on\\xa0its list of 100 greatest artists of all time.[4]\\xa0As of 2017, Metallica is the third-best-selling music artist since Nielsen SoundScan began tracking sales in 1991,[5]\\xa0selling 58\\xa0million albums in the United States.')]"
            ]
          },
          "execution_count": 9,
          "metadata": {},
          "output_type": "execute_result"
        }
      ],
      "source": [
        "documents"
      ]
    },
    {
      "cell_type": "code",
      "execution_count": null,
      "metadata": {
        "id": "mAgjj7VPoO_A"
      },
      "outputs": [],
      "source": [
        "with open(\"/content/Metallica.txt\", \"r\", encoding=\"utf-8\") as file:\n",
        "    text = file.read()\n"
      ]
    },
    {
      "cell_type": "code",
      "execution_count": null,
      "metadata": {
        "id": "rfac7kFEopjE"
      },
      "outputs": [],
      "source": [
        "word_count=len(text.split())"
      ]
    },
    {
      "cell_type": "code",
      "execution_count": null,
      "metadata": {
        "colab": {
          "base_uri": "https://localhost:8080/"
        },
        "id": "FocMgUqNo1fa",
        "outputId": "5d965291-beea-40e2-a9d6-af8f71e24fdc"
      },
      "outputs": [
        {
          "name": "stdout",
          "output_type": "stream",
          "text": [
            "526\n"
          ]
        }
      ],
      "source": [
        "print(word_count)"
      ]
    },
    {
      "cell_type": "code",
      "execution_count": null,
      "metadata": {
        "colab": {
          "background_save": true
        },
        "id": "ZccQFReawb3m"
      },
      "outputs": [],
      "source": [
        "docs = text_splitter.split_documents(chunk_size=50,\n",
        "  )\n"
      ]
    }
  ],
  "metadata": {
    "colab": {
      "provenance": []
    },
    "kernelspec": {
      "display_name": "Python 3",
      "name": "python3"
    },
    "language_info": {
      "name": "python"
    }
  },
  "nbformat": 4,
  "nbformat_minor": 0
}