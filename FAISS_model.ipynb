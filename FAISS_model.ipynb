{
  "cells": [
    {
      "cell_type": "code",
      "execution_count": 12,
      "metadata": {
        "id": "dxPB9QZ8iuQP"
      },
      "outputs": [],
      "source": [
        "from langchain_openai import OpenAI\n",
        "from langchain_community.document_loaders import TextLoader\n",
        "from langchain.text_splitter import RecursiveCharacterTextSplitter\n",
        "from langchain_openai import OpenAIEmbeddings\n",
        "from langchain_community.vectorstores import FAISS\n",
        "from langchain_core.vectorstores import VectorStoreRetriever\n",
        "from langchain.chains import RetrievalQA\n",
        "\n"
      ]
    },
    {
      "cell_type": "code",
      "execution_count": 13,
      "metadata": {
        "id": "6NKuV0wPoCkw"
      },
      "outputs": [],
      "source": [
        "%pip install --quiet langchain-openai\n",
        "%pip install --quiet langchain-community\n"
      ]
    },
    {
      "cell_type": "code",
      "execution_count": null,
      "metadata": {
        "id": "qOSZhWY3lrNs"
      },
      "outputs": [],
      "source": [
        "import os\n",
        "os.environ[\"OPENAI_API_KEY\"] = \"\""
      ]
    },
    {
      "cell_type": "code",
      "execution_count": 17,
      "metadata": {
        "id": "VoCfJxLPltsF"
      },
      "outputs": [],
      "source": [
        "loader= TextLoader(\"/content/Metallica.txt\")"
      ]
    },
    {
      "cell_type": "code",
      "execution_count": 18,
      "metadata": {
        "id": "d5EqTa8LmBu9"
      },
      "outputs": [],
      "source": [
        "documents= loader.load()"
      ]
    },
    {
      "cell_type": "code",
      "execution_count": 19,
      "metadata": {
        "colab": {
          "base_uri": "https://localhost:8080/"
        },
        "id": "A9RE4QYPmJkD",
        "outputId": "cb8cbd38-a6fa-42c8-c231-add23bfe45f0"
      },
      "outputs": [
        {
          "data": {
            "text/plain": [
              "[Document(metadata={'source': '/content/Metallica.txt'}, page_content='Metallica\\xa0is an American\\xa0heavy metal\\xa0band. It was formed in\\xa0Los Angeles\\xa0in 1981 by vocalist and guitarist\\xa0James Hetfield\\xa0and drummer\\xa0Lars Ulrich, and has been based in\\xa0San Francisco\\xa0for most of its career.[1][2]\\xa0The band\\'s fast tempos, instrumentals and aggressive musicianship made them one of the founding \"big four\" bands of\\xa0thrash metal, alongside\\xa0Megadeth,\\xa0Anthrax\\xa0and\\xa0Slayer. Metallica\\'s current lineup comprises founding members and primary songwriters Hetfield and Ulrich, longtime lead guitarist\\xa0Kirk Hammett\\xa0and bassist\\xa0Robert Trujillo. Guitarist\\xa0Dave Mustaine, who formed Megadeth after being fired from Metallica, and bassists\\xa0Ron McGovney,\\xa0Cliff Burton\\xa0and\\xa0Jason Newsted\\xa0are former members of the band. The band is one of the\\xa0most commercially successful bands of all time, having sold more than 163\\xa0million albums worldwide as of 2023.[3]\\n\\nMetallica first found commercial success with the release of its third album,\\xa0Master of Puppets\\xa0(1986), which is cited as one of the heaviest metal albums and the band\\'s best work. The band\\'s next album,\\xa0...And Justice for All\\xa0(1988), gave Metallica its first\\xa0Grammy Award\\xa0nomination. Its fifth album,\\xa0Metallica\\xa0(1991), was a turning point for the band that saw them transition from their thrash roots; it appealed to a more mainstream audience, achieving substantial commercial success and selling more than 16\\xa0million copies in the United States to date, making it the best-selling album of the\\xa0SoundScan\\xa0era. After experimenting with different genres and directions in subsequent releases, Metallica returned to its thrash metal roots with its ninth album,\\xa0Death Magnetic\\xa0(2008), which drew similar praise to that of the band\\'s earlier albums. The band\\'s eleventh and most recent album,\\xa072 Seasons, was released in 2023.\\n\\nIn 2000,\\xa0Metallica led the case\\xa0against the\\xa0peer-to-peer file sharing\\xa0service\\xa0Napster, in which the band and several other artists filed lawsuits against the service for sharing their copyright-protected material without consent, eventually reaching a settlement. Metallica was the subject of the acclaimed 2004 documentary film\\xa0Metallica: Some Kind of Monster, which documented the troubled production of the band\\'s eighth album,\\xa0St. Anger\\xa0(2003), and the internal struggles within the band at the time. In 2009, Metallica was inducted into the\\xa0Rock and Roll Hall of Fame. The band co-wrote the screenplay for and starred alongside\\xa0Dane DeHaan\\xa0in the 2013 concert film\\xa0Metallica: Through the Never, in which the band performed live against a fictional\\xa0thriller\\xa0storyline.\\n\\nMetallica has released eleven studio albums, four live albums (including two performances with the\\xa0San Francisco Symphony), twelve video albums, one cover album, two extended plays, 37 singles and 39 music videos. The band has won ten Grammy Awards from 26 nominations and had six consecutive studio albums – from\\xa0Metallica\\xa0through\\xa0Hardwired... to Self-Destruct\\xa0(2016) – debut at number one on the\\xa0Billboard\\xa0200. Metallica has been listed as one of the greatest artists of all time by magazines such as\\xa0Rolling Stone, which ranked the band in 61st place on\\xa0its list of 100 greatest artists of all time.[4]\\xa0As of 2017, Metallica is the third-best-selling music artist since Nielsen SoundScan began tracking sales in 1991,[5]\\xa0selling 58\\xa0million albums in the United States.')]"
            ]
          },
          "execution_count": 19,
          "metadata": {},
          "output_type": "execute_result"
        }
      ],
      "source": [
        "documents"
      ]
    },
    {
      "cell_type": "code",
      "execution_count": 20,
      "metadata": {
        "id": "mAgjj7VPoO_A"
      },
      "outputs": [],
      "source": [
        "with open(\"/content/Metallica.txt\", \"r\", encoding=\"utf-8\") as file:\n",
        "    text = file.read()\n"
      ]
    },
    {
      "cell_type": "code",
      "execution_count": 21,
      "metadata": {
        "id": "rfac7kFEopjE"
      },
      "outputs": [],
      "source": [
        "word_count=len(text.split())"
      ]
    },
    {
      "cell_type": "code",
      "execution_count": 22,
      "metadata": {
        "colab": {
          "base_uri": "https://localhost:8080/"
        },
        "id": "FocMgUqNo1fa",
        "outputId": "c8ad397e-312e-4f4c-9ceb-fc41d539074f"
      },
      "outputs": [
        {
          "name": "stdout",
          "output_type": "stream",
          "text": [
            "526\n"
          ]
        }
      ],
      "source": [
        "print(word_count)"
      ]
    },
    {
      "cell_type": "code",
      "execution_count": 23,
      "metadata": {
        "id": "ZccQFReawb3m"
      },
      "outputs": [],
      "source": [
        "from langchain.text_splitter import RecursiveCharacterTextSplitter\n",
        "\n",
        "text_splitter = RecursiveCharacterTextSplitter(\n",
        "    chunk_size=50,\n",
        "    chunk_overlap=10,\n",
        "    length_function=len,\n",
        ")\n"
      ]
    },
    {
      "cell_type": "code",
      "execution_count": 24,
      "metadata": {
        "id": "xPn7rR-_y6tx"
      },
      "outputs": [],
      "source": [
        "docs= text_splitter.split_documents(documents)"
      ]
    },
    {
      "cell_type": "code",
      "execution_count": 25,
      "metadata": {
        "colab": {
          "base_uri": "https://localhost:8080/"
        },
        "id": "uMlS6eOGzHF7",
        "outputId": "2d8ad0ed-54c6-43c1-d901-71186e54321f"
      },
      "outputs": [
        {
          "data": {
            "text/plain": [
              "Document(metadata={'source': '/content/Metallica.txt'}, page_content='Metallica\\xa0is an American\\xa0heavy metal\\xa0band. It was')"
            ]
          },
          "execution_count": 25,
          "metadata": {},
          "output_type": "execute_result"
        }
      ],
      "source": [
        "docs[0]"
      ]
    },
    {
      "cell_type": "code",
      "execution_count": 26,
      "metadata": {
        "colab": {
          "base_uri": "https://localhost:8080/"
        },
        "id": "ZN8UbJIq3RKM",
        "outputId": "0810bab1-7d8b-441a-ebef-6d8e10655ce8"
      },
      "outputs": [
        {
          "data": {
            "text/plain": [
              "85"
            ]
          },
          "execution_count": 26,
          "metadata": {},
          "output_type": "execute_result"
        }
      ],
      "source": [
        "len(docs)"
      ]
    },
    {
      "cell_type": "code",
      "execution_count": 27,
      "metadata": {
        "id": "H8ik2bWV4niy"
      },
      "outputs": [],
      "source": [
        "embeddings= OpenAIEmbeddings()"
      ]
    },
    {
      "cell_type": "code",
      "execution_count": 31,
      "metadata": {
        "colab": {
          "base_uri": "https://localhost:8080/"
        },
        "id": "OUU2d5VJpu7h",
        "outputId": "618aa549-ff33-451c-990d-a26236317052"
      },
      "outputs": [
        {
          "name": "stdout",
          "output_type": "stream",
          "text": [
            "Collecting faiss-cpu\n",
            "  Downloading faiss_cpu-1.11.0.post1-cp311-cp311-manylinux_2_27_x86_64.manylinux_2_28_x86_64.whl.metadata (5.0 kB)\n",
            "Requirement already satisfied: numpy<3.0,>=1.25.0 in /usr/local/lib/python3.11/dist-packages (from faiss-cpu) (2.0.2)\n",
            "Requirement already satisfied: packaging in /usr/local/lib/python3.11/dist-packages (from faiss-cpu) (25.0)\n",
            "Downloading faiss_cpu-1.11.0.post1-cp311-cp311-manylinux_2_27_x86_64.manylinux_2_28_x86_64.whl (31.3 MB)\n",
            "\u001b[2K   \u001b[90m━━━━━━━━━━━━━━━━━━━━━━━━━━━━━━━━━━━━━━━━\u001b[0m \u001b[32m31.3/31.3 MB\u001b[0m \u001b[31m31.9 MB/s\u001b[0m eta \u001b[36m0:00:00\u001b[0m\n",
            "\u001b[?25hInstalling collected packages: faiss-cpu\n",
            "Successfully installed faiss-cpu-1.11.0.post1\n"
          ]
        }
      ],
      "source": [
        "pip install faiss-cpu\n"
      ]
    },
    {
      "cell_type": "code",
      "execution_count": 32,
      "metadata": {
        "colab": {
          "base_uri": "https://localhost:8080/"
        },
        "id": "hRJA_RpFpym7",
        "outputId": "15b50e57-b67c-4b3e-bed2-e4a7883a46bd"
      },
      "outputs": [
        {
          "name": "stdout",
          "output_type": "stream",
          "text": [
            "1.11.0\n"
          ]
        }
      ],
      "source": [
        "import faiss\n",
        "print(faiss.__version__)\n"
      ]
    },
    {
      "cell_type": "code",
      "execution_count": 33,
      "metadata": {
        "id": "YTPlfVkO4xz4"
      },
      "outputs": [],
      "source": [
        "from langchain_community.vectorstores import FAISS\n",
        "library= FAISS.from_documents(docs, embeddings)"
      ]
    },
    {
      "cell_type": "code",
      "execution_count": 34,
      "metadata": {
        "id": "khKFj-AD5XRh"
      },
      "outputs": [],
      "source": [
        "Query1 = \"Who is the lead singer of Metallica?\"\n",
        "Query_answer = library.similarity_search(Query1)\n",
        "\n"
      ]
    },
    {
      "cell_type": "code",
      "execution_count": 35,
      "metadata": {
        "colab": {
          "base_uri": "https://localhost:8080/"
        },
        "id": "crU2qQU-5r7u",
        "outputId": "53087dfc-a633-4ee1-a014-fb773c31086b"
      },
      "outputs": [
        {
          "name": "stdout",
          "output_type": "stream",
          "text": [
            "vocalist and guitarist James Hetfield and\n"
          ]
        }
      ],
      "source": [
        "print(Query_answer[0].page_content)"
      ]
    },
    {
      "cell_type": "code",
      "execution_count": 36,
      "metadata": {
        "colab": {
          "base_uri": "https://localhost:8080/"
        },
        "id": "dUOXBo9gCBO_",
        "outputId": "de408bb7-288e-4901-ab33-1c365b127634"
      },
      "outputs": [
        {
          "name": "stdout",
          "output_type": "stream",
          "text": [
            "Metallica's current lineup comprises founding\n"
          ]
        }
      ],
      "source": [
        "print(Query_answer[1].page_content)"
      ]
    },
    {
      "cell_type": "code",
      "execution_count": 37,
      "metadata": {
        "id": "WuUoWhE1nBKm"
      },
      "outputs": [],
      "source": [
        "docs_and_scores= library.similarity_search_with_score(Query1)"
      ]
    },
    {
      "cell_type": "code",
      "execution_count": 38,
      "metadata": {
        "colab": {
          "base_uri": "https://localhost:8080/"
        },
        "id": "vNn31WPGnKtx",
        "outputId": "3c2fdbbf-0763-4f4a-cbc5-fcf4c712b9b4"
      },
      "outputs": [
        {
          "name": "stdout",
          "output_type": "stream",
          "text": [
            "(Document(id='9a332af6-7468-4829-88ed-e04ab2438573', metadata={'source': '/content/Metallica.txt'}, page_content='vocalist and guitarist\\xa0James Hetfield\\xa0and'), np.float32(0.3101305))\n"
          ]
        }
      ],
      "source": [
        "print(docs_and_scores[0])"
      ]
    },
    {
      "cell_type": "code",
      "execution_count": 39,
      "metadata": {
        "colab": {
          "base_uri": "https://localhost:8080/"
        },
        "id": "FQs8KOaqqDbX",
        "outputId": "1660be52-4f9f-49b0-e7c0-30374b88c714"
      },
      "outputs": [
        {
          "data": {
            "text/plain": [
              "(Document(id='aeb17c47-3f3d-4432-ac76-44ce9920aa98', metadata={'source': '/content/Metallica.txt'}, page_content=\"Metallica's current lineup comprises founding\"),\n",
              " np.float32(0.31784117))"
            ]
          },
          "execution_count": 39,
          "metadata": {},
          "output_type": "execute_result"
        }
      ],
      "source": [
        "docs_and_scores[1]"
      ]
    },
    {
      "cell_type": "code",
      "execution_count": 40,
      "metadata": {
        "id": "q4iuDCoIqNSq"
      },
      "outputs": [],
      "source": [
        "retriever= library.as_retriever()"
      ]
    },
    {
      "cell_type": "code",
      "execution_count": 43,
      "metadata": {
        "id": "6lV-kyaEraD5"
      },
      "outputs": [],
      "source": [
        "qa= RetrievalQA.from_chain_type(llm=OpenAI(),chain_type=\"stuff\", retriever= retriever)"
      ]
    },
    {
      "cell_type": "code",
      "execution_count": 44,
      "metadata": {
        "id": "W7AbKXEOsCDv"
      },
      "outputs": [],
      "source": [
        "retriever_query=\"What is the most hated Metallica Album\""
      ]
    },
    {
      "cell_type": "code",
      "execution_count": 45,
      "metadata": {
        "id": "-gOXwVkUsLFa"
      },
      "outputs": [],
      "source": [
        "results= qa.invoke(retriever_query)"
      ]
    },
    {
      "cell_type": "code",
      "execution_count": 46,
      "metadata": {
        "colab": {
          "base_uri": "https://localhost:8080/"
        },
        "id": "IR36scvgsTnX",
        "outputId": "31fbd4e3-1dad-4585-e947-7d2b94191983"
      },
      "outputs": [
        {
          "name": "stdout",
          "output_type": "stream",
          "text": [
            "{'query': 'What is the most hated Metallica Album', 'result': \" I don't know.\"}\n"
          ]
        }
      ],
      "source": [
        "print(results)"
      ]
    },
    {
      "cell_type": "code",
      "execution_count": 49,
      "metadata": {
        "id": "1vefINMGsslx"
      },
      "outputs": [],
      "source": [
        "retriever_query1=\"How many Studio albums have metallica released\""
      ]
    },
    {
      "cell_type": "code",
      "execution_count": 50,
      "metadata": {
        "id": "YhQSF5Tns9fo"
      },
      "outputs": [],
      "source": [
        "results1=qa.invoke(retriever_query)"
      ]
    },
    {
      "cell_type": "code",
      "execution_count": 51,
      "metadata": {
        "colab": {
          "base_uri": "https://localhost:8080/"
        },
        "id": "kDMyoZJbtCr6",
        "outputId": "cd6dcdce-cf2d-4ecb-b97e-44c11f6dfcb0"
      },
      "outputs": [
        {
          "data": {
            "text/plain": [
              "{'query': 'How many Studio albums have metallica released',\n",
              " 'result': ' Eleven'}"
            ]
          },
          "execution_count": 51,
          "metadata": {},
          "output_type": "execute_result"
        }
      ],
      "source": [
        "results"
      ]
    },
    {
      "cell_type": "code",
      "execution_count": 55,
      "metadata": {
        "id": "pp8HHC5MtO2c"
      },
      "outputs": [],
      "source": [
        "library.save_local(\"faiss_index_metallica\")"
      ]
    },
    {
      "cell_type": "code",
      "execution_count": 60,
      "metadata": {
        "id": "frBH8UUIvaIb"
      },
      "outputs": [],
      "source": [
        "metallica_saved= FAISS.load_local(\"faiss_index_metallica\",embeddings, allow_dangerous_deserialization=True)"
      ]
    },
    {
      "cell_type": "code",
      "execution_count": 59,
      "metadata": {
        "id": "JIKv9xjxu7h4"
      },
      "outputs": [],
      "source": [
        "qa= RetrievalQA.from_chain_type(llm=OpenAI(),chain_type=\"stuff\",retriever=metallica_saved.as_retriever())"
      ]
    },
    {
      "cell_type": "code",
      "execution_count": 61,
      "metadata": {
        "id": "sfJBkEoXvQfe"
      },
      "outputs": [],
      "source": [
        "results= qa.invoke(retriever_query)"
      ]
    },
    {
      "cell_type": "code",
      "execution_count": 62,
      "metadata": {
        "colab": {
          "base_uri": "https://localhost:8080/"
        },
        "id": "FXzlXoJ8vxKA",
        "outputId": "f887aca4-10b8-468d-e1bd-ae55582a7ed0"
      },
      "outputs": [
        {
          "name": "stdout",
          "output_type": "stream",
          "text": [
            "{'query': 'How many Studio albums have metallica released', 'result': ' 11'}\n"
          ]
        }
      ],
      "source": [
        "print(results)"
      ]
    },
    {
      "cell_type": "code",
      "execution_count": 65,
      "metadata": {
        "colab": {
          "base_uri": "https://localhost:8080/"
        },
        "id": "ETeeTHGvwLjq",
        "outputId": "05569c9b-3bdf-45cd-b56f-8fc627a42b56"
      },
      "outputs": [
        {
          "name": "stdout",
          "output_type": "stream",
          "text": [
            "{'query': 'Where was Metallica founded', 'result': ' Metallica was founded in Los Angeles, California.'}\n"
          ]
        }
      ],
      "source": [
        "retriever_query2=\"Where was Metallica founded\"\n",
        "r2= qa.invoke(retriever_query2)\n",
        "print(r2)"
      ]
    }
  ],
  "metadata": {
    "colab": {
      "provenance": []
    },
    "kernelspec": {
      "display_name": "Python 3",
      "name": "python3"
    },
    "language_info": {
      "name": "python"
    }
  },
  "nbformat": 4,
  "nbformat_minor": 0
}
